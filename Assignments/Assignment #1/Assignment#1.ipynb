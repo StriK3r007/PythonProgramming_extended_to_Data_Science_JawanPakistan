{
 "cells": [
  {
   "cell_type": "markdown",
   "id": "b91adb1c",
   "metadata": {},
   "source": [
    "# JAWAN PAKISTAN\n",
    "\n",
    "### Python Programming extended to Data Science\n",
    "### Assignment # 1\n",
    "\n",
    "### Submitted By: Zubair Ahmed"
   ]
  },
  {
   "cell_type": "markdown",
   "id": "9795c456",
   "metadata": {},
   "source": [
    "#### Q.1: Write a Python program to print the following string in a specific format (see the output)."
   ]
  },
  {
   "cell_type": "code",
   "execution_count": null,
   "id": "b70c3c40",
   "metadata": {},
   "outputs": [],
   "source": [
    "Twinkle, twinkle, little star,\n",
    "    How I wonder what you are!\n",
    "        Up above the world so high, \n",
    "        Like a diamond in the sky.\n",
    "Twinkle, twinkle, little star,\n",
    "    How I wonder what you are"
   ]
  },
  {
   "cell_type": "code",
   "execution_count": 3,
   "id": "df5eba46",
   "metadata": {},
   "outputs": [
    {
     "name": "stdout",
     "output_type": "stream",
     "text": [
      "Answer:\n",
      "__________\n",
      "Method-1 \n",
      "__________\n",
      "Twinkle, twinkle, little star,\n",
      "\tHow I wonder what you are!\n",
      "\t\tUp above the world so high,\n",
      "\t\tLike a diamond in the sky.\n",
      "Twinkle, twinkle, little star,\n",
      "\tHow I wonder what you are\n",
      "\n",
      "Method-2 \n",
      "__________\n",
      "\n",
      "Twinkle, twinkle, little star,\n",
      "    How I wonder what you are!\n",
      "        Up above the world so high, \n",
      "        Like a diamond in the sky.\n",
      "Twinkle, twinkle, little star,\n",
      "    How I wonder what you are\n",
      "\n"
     ]
    }
   ],
   "source": [
    "print (\"Answer:\")\n",
    "print (\"__________\")\n",
    "\n",
    "print (\"Method-1 \\n__________\")\n",
    "\n",
    "print (\"Twinkle, twinkle, little star,\\n\\tHow I wonder what you are!\\n\\t\\tUp above the world so high,\\n\\t\\tLike a diamond in the sky.\\nTwinkle, twinkle, little star,\\n\\tHow I wonder what you are\")\n",
    "\n",
    "print (\"\\nMethod-2 \\n__________\")\n",
    "\n",
    "print (\"\"\"\n",
    "Twinkle, twinkle, little star,\n",
    "    How I wonder what you are!\n",
    "        Up above the world so high, \n",
    "        Like a diamond in the sky.\n",
    "Twinkle, twinkle, little star,\n",
    "    How I wonder what you are\n",
    "\"\"\")"
   ]
  },
  {
   "cell_type": "markdown",
   "id": "24f61c63",
   "metadata": {},
   "source": [
    "#### Q.2: Write a Python program to get the Python version you are using."
   ]
  },
  {
   "cell_type": "code",
   "execution_count": 4,
   "id": "d9fa5c2b",
   "metadata": {},
   "outputs": [
    {
     "name": "stdout",
     "output_type": "stream",
     "text": [
      "Answer:\n",
      "__________\n",
      "Python version is 3.8.8 (default, Apr 13 2021, 15:08:03) [MSC v.1916 64 bit (AMD64)]\n"
     ]
    }
   ],
   "source": [
    "print (\"Answer:\")\n",
    "print (\"__________\")\n",
    "\n",
    "# importing sys module\n",
    "import sys\n",
    "print (\"Python version is\", sys.version)"
   ]
  },
  {
   "cell_type": "markdown",
   "id": "2a1c9cda",
   "metadata": {},
   "source": [
    "#### Q.3: Write a Python program to display the current date and time."
   ]
  },
  {
   "cell_type": "code",
   "execution_count": 5,
   "id": "a4b17dcf",
   "metadata": {},
   "outputs": [
    {
     "name": "stdout",
     "output_type": "stream",
     "text": [
      "Answer:\n",
      "__________\n",
      "Date and time = 2021-12-30 00:29:54.383008\n"
     ]
    }
   ],
   "source": [
    "print (\"Answer:\")\n",
    "print (\"__________\")\n",
    "\n",
    "# importing date and time module\n",
    "from datetime import datetime\n",
    "print (\"Date and time =\", datetime.now())"
   ]
  },
  {
   "cell_type": "markdown",
   "id": "cf107001",
   "metadata": {},
   "source": [
    "#### Q.4: Write a Python program which accepts the radius of a circle from the user and compute the area."
   ]
  },
  {
   "cell_type": "code",
   "execution_count": 7,
   "id": "d8389b6c",
   "metadata": {},
   "outputs": [
    {
     "name": "stdout",
     "output_type": "stream",
     "text": [
      "Answer:\n",
      "__________\n",
      "Enter radius of a circle: 7\n",
      "Area of a circle is:  153.93804002589985\n",
      "Rounding off the Area:  154\n"
     ]
    }
   ],
   "source": [
    "# importing math module\n",
    "import math\n",
    "\n",
    "print (\"Answer:\")\n",
    "print (\"__________\")\n",
    "\n",
    "#formulaOfArea = (valueOfPi x squareOfRadius)\n",
    "\n",
    "r = int(input(\"Enter radius of a circle: \"))\n",
    "\n",
    "r = r*r\n",
    "pi = math.pi\n",
    "a = pi*r\n",
    "\n",
    "print (\"Area of a circle is: \", a)\n",
    "print (\"Rounding off the Area: \", round(a))"
   ]
  },
  {
   "cell_type": "markdown",
   "id": "733638fa",
   "metadata": {},
   "source": [
    "#### Q.5: Write a Python program which accepts the user's first and last name and print them in reverse order with a space between them."
   ]
  },
  {
   "cell_type": "code",
   "execution_count": 12,
   "id": "5e717749",
   "metadata": {},
   "outputs": [
    {
     "name": "stdout",
     "output_type": "stream",
     "text": [
      "Answer\n",
      "__________\n",
      "Enter first name: Madiha\n",
      "Enter last name: Gul\n",
      "\n",
      "Method-1\n",
      "__________\n",
      "Gul Madiha\n",
      "\n",
      "Method-2\n",
      "__________\n",
      "Gul Madiha\n"
     ]
    }
   ],
   "source": [
    "print (\"Answer\")\n",
    "print (\"__________\")\n",
    "\n",
    "fname = input(\"Enter first name: \")\n",
    "lname = input(\"Enter last name: \")\n",
    "print (\"\\nMethod-1\")\n",
    "print (\"__________\")\n",
    "print (lname + \" \"+ fname)\n",
    "\n",
    "print (\"\\nMethod-2\")\n",
    "print (\"__________\")\n",
    "print(lname, fname)"
   ]
  },
  {
   "cell_type": "markdown",
   "id": "5fccb9c7",
   "metadata": {},
   "source": [
    "#### Q.6: Write a python program which takes two inputs from user and print them addition."
   ]
  },
  {
   "cell_type": "code",
   "execution_count": 13,
   "id": "ee1a0163",
   "metadata": {},
   "outputs": [
    {
     "name": "stdout",
     "output_type": "stream",
     "text": [
      "Answer:\n",
      "__________\n",
      "Enter first number: 57\n",
      "Enter second number: 49\n",
      "Sum of 57 and 49 is equal to 106\n"
     ]
    }
   ],
   "source": [
    "print (\"Answer:\")\n",
    "print (\"__________\")\n",
    "\n",
    "num1 = int(input(\"Enter first number: \"))\n",
    "num2 = int(input(\"Enter second number: \"))\n",
    "\n",
    "print (\"Sum of\", num1, \"and\", num2, \"is equal to\", num1+num2)"
   ]
  },
  {
   "cell_type": "code",
   "execution_count": null,
   "id": "3d6c60a2",
   "metadata": {},
   "outputs": [],
   "source": []
  }
 ],
 "metadata": {
  "kernelspec": {
   "display_name": "Python 3",
   "language": "python",
   "name": "python3"
  },
  "language_info": {
   "codemirror_mode": {
    "name": "ipython",
    "version": 3
   },
   "file_extension": ".py",
   "mimetype": "text/x-python",
   "name": "python",
   "nbconvert_exporter": "python",
   "pygments_lexer": "ipython3",
   "version": "3.8.8"
  }
 },
 "nbformat": 4,
 "nbformat_minor": 5
}
